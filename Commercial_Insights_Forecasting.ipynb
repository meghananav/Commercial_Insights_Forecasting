{
  "nbformat": 4,
  "nbformat_minor": 0,
  "metadata": {
    "colab": {
      "provenance": [],
      "authorship_tag": "ABX9TyPj2lAKumPNghLdSQ7/baJq",
      "include_colab_link": true
    },
    "kernelspec": {
      "name": "python3",
      "display_name": "Python 3"
    },
    "language_info": {
      "name": "python"
    }
  },
  "cells": [
    {
      "cell_type": "markdown",
      "metadata": {
        "id": "view-in-github",
        "colab_type": "text"
      },
      "source": [
        "<a href=\"https://colab.research.google.com/github/meghananav/Commercial_Insights_Forecasting/blob/main/Commercial_Insights_Forecasting.ipynb\" target=\"_parent\"><img src=\"https://colab.research.google.com/assets/colab-badge.svg\" alt=\"Open In Colab\"/></a>"
      ]
    },
    {
      "cell_type": "markdown",
      "source": [
        "# Commercial Insights Forecasting Project\n",
        "\n",
        "This project demonstrates how **time series forecasting** and **machine learning** can be applied to generate actionable commercial insights.  \n",
        "Using simulated sales data across products and regions, the notebook walks through an end-to-end workflow of data preprocessing, feature engineering, visualization, and forecasting.\n",
        "\n",
        "## Objectives\n",
        "- **Simulate a commercial sales dataset** with product, region, pricing, promotion, and customer segment details  \n",
        "- **Perform exploratory data analysis (EDA)** to identify patterns and correlations  \n",
        "- **Engineer time series and promotional features** to enrich the dataset  \n",
        "- **Train and evaluate forecasting models** using **XGBoost** (machine learning) and **Prophet** (time series)  \n",
        "- **Visualize and interpret forecasts** to support data-driven business decision-making\n"
      ],
      "metadata": {
        "id": "pCQf5qik5LOG"
      }
    },
    {
      "cell_type": "markdown",
      "source": [
        "## 1. Import Required Libraries\n"
      ],
      "metadata": {
        "id": "Op8qRxjn5Yk_"
      }
    },
    {
      "cell_type": "code",
      "source": [
        "!pip install pandas numpy matplotlib seaborn scikit-learn xgboost prophet plotly\n",
        "\n",
        "import pandas as pd\n",
        "import numpy as np\n",
        "import matplotlib.pyplot as plt\n",
        "import seaborn as sns\n",
        "import plotly.express as px\n",
        "from sklearn.model_selection import train_test_split\n",
        "from sklearn.metrics import mean_squared_error\n",
        "import xgboost as xgb\n",
        "from prophet import Prophet\n",
        "from datetime import datetime, timedelta\n",
        "\n",
        "np.random.seed(42)\n"
      ],
      "metadata": {
        "id": "z65NdJXT5Z3s"
      },
      "execution_count": null,
      "outputs": []
    },
    {
      "cell_type": "markdown",
      "source": [
        "## 2. Simulate Commercial Sales Data\n"
      ],
      "metadata": {
        "id": "V6jcJEW05h4J"
      }
    },
    {
      "cell_type": "code",
      "source": [
        "num_days = 365\n",
        "products = ['Product_A', 'Product_B', 'Product_C', 'Product_D']\n",
        "regions = ['North', 'South', 'East', 'West']\n",
        "\n",
        "dates = [datetime.today() - timedelta(days=x) for x in range(num_days)]\n",
        "data = []\n",
        "\n",
        "for date in dates:\n",
        "    for product in products:\n",
        "        for region in regions:\n",
        "            sales_quantity = np.random.randint(20, 200)\n",
        "            price = np.random.uniform(10, 100)\n",
        "            promotion = np.random.choice([0, 1], p=[0.8, 0.2])\n",
        "            customer_segment = np.random.choice(['Retail', 'Wholesale'])\n",
        "            data.append([date, product, region, sales_quantity, round(price,2), promotion, customer_segment])\n",
        "\n",
        "df = pd.DataFrame(data, columns=['Date','Product_ID','Region','Sales_Quantity','Price','Promotion','Customer_Segment'])\n",
        "df.head()\n"
      ],
      "metadata": {
        "id": "I_KAC7-B5bug"
      },
      "execution_count": null,
      "outputs": []
    },
    {
      "cell_type": "markdown",
      "source": [
        "## 3. Exploratory Data Analysis (EDA)\n"
      ],
      "metadata": {
        "id": "FGxvEin85q5j"
      }
    },
    {
      "cell_type": "code",
      "source": [
        "# 1. Data overview\n",
        "print(\"Data types:\")\n",
        "print(df.dtypes)\n",
        "print(\"\\nMissing values:\")\n",
        "print(df.isnull().sum())\n",
        "df.describe()\n"
      ],
      "metadata": {
        "id": "hva6GqrV5rga"
      },
      "execution_count": null,
      "outputs": []
    },
    {
      "cell_type": "code",
      "source": [
        "# 2. Sales trend over time\n",
        "sales_time = df.groupby('Date')['Sales_Quantity'].sum()\n",
        "plt.figure(figsize=(12,6))\n",
        "plt.plot(sales_time.index, sales_time.values)\n",
        "plt.title(\"Total Sales Over Time\")\n",
        "plt.xlabel(\"Date\")\n",
        "plt.ylabel(\"Sales Quantity\")\n",
        "plt.grid(True)\n",
        "plt.show()\n",
        "\n"
      ],
      "metadata": {
        "id": "eoQHn7v357DA"
      },
      "execution_count": null,
      "outputs": []
    },
    {
      "cell_type": "code",
      "source": [
        "# 3. Total sales by product\n",
        "plt.figure(figsize=(8,5))\n",
        "sns.barplot(data=df, x='Product_ID', y='Sales_Quantity', estimator=sum)\n",
        "plt.title(\"Total Sales by Product\")\n",
        "plt.ylabel(\"Total Sales\")\n",
        "plt.show()\n"
      ],
      "metadata": {
        "id": "O9tsxEjb598W"
      },
      "execution_count": null,
      "outputs": []
    },
    {
      "cell_type": "code",
      "source": [
        "# 4. Total sales by region\n",
        "region_sales = df.groupby('Region')['Sales_Quantity'].sum()\n",
        "region_sales.plot(kind='bar', figsize=(6,4), title=\"Total Sales by Region\")\n",
        "plt.ylabel(\"Total Sales\")\n",
        "plt.show()\n"
      ],
      "metadata": {
        "id": "kNsYapPS5-gv"
      },
      "execution_count": null,
      "outputs": []
    },
    {
      "cell_type": "code",
      "source": [
        "# 5. Correlation heatmap\n",
        "numeric_cols = ['Sales_Quantity', 'Price', 'Promotion']\n",
        "plt.figure(figsize=(6,4))\n",
        "sns.heatmap(df[numeric_cols].corr(), annot=True, cmap='coolwarm')\n",
        "plt.title(\"Correlation Heatmap\")\n",
        "plt.show()\n"
      ],
      "metadata": {
        "id": "Vxd1Fljx6Ewh"
      },
      "execution_count": null,
      "outputs": []
    },
    {
      "cell_type": "code",
      "source": [
        "# 6. Distribution of sales quantity\n",
        "plt.figure(figsize=(8,5))\n",
        "sns.histplot(df['Sales_Quantity'], bins=30, kde=True)\n",
        "plt.title(\"Distribution of Sales Quantity\")\n",
        "plt.xlabel(\"Sales Quantity\")\n",
        "plt.show()\n"
      ],
      "metadata": {
        "id": "WwIxUQkB6HFw"
      },
      "execution_count": null,
      "outputs": []
    },
    {
      "cell_type": "code",
      "source": [
        "# 7. Impact of promotions\n",
        "plt.figure(figsize=(8,5))\n",
        "sns.boxplot(data=df, x='Promotion', y='Sales_Quantity')\n",
        "plt.title(\"Impact of Promotion on Sales Quantity\")\n",
        "plt.xlabel(\"Promotion (0=No, 1=Yes)\")\n",
        "plt.ylabel(\"Sales Quantity\")\n",
        "plt.show()\n"
      ],
      "metadata": {
        "id": "kgG6487V6LIm"
      },
      "execution_count": null,
      "outputs": []
    },
    {
      "cell_type": "markdown",
      "source": [
        "## 4. Feature Engineering\n",
        "\n",
        "In this section, we enhance the dataset with additional features to improve model performance.  \n",
        "Steps include:\n",
        "- Extracting temporal features (day, month, weekday)  \n",
        "- Encoding categorical variables (product, region, customer segment)  \n",
        "- Creating interaction features (promotion impact)  \n",
        "- Generating lag features (previous day and previous week sales)  \n"
      ],
      "metadata": {
        "id": "cHel76W96hjR"
      }
    },
    {
      "cell_type": "code",
      "source": [
        "# Convert date column to datetime (if not already)\n",
        "df['Date'] = pd.to_datetime(df['Date'])\n",
        "\n",
        "# Extract temporal features\n",
        "df['Day'] = df['Date'].dt.day\n",
        "df['Month'] = df['Date'].dt.month\n",
        "df['Weekday'] = df['Date'].dt.weekday  # 0=Monday, 6=Sunday\n"
      ],
      "metadata": {
        "id": "xqyvV5pl6iJh"
      },
      "execution_count": null,
      "outputs": []
    },
    {
      "cell_type": "code",
      "source": [
        "# Encode categorical features\n",
        "df_encoded = df.copy()\n",
        "df_encoded['Product_ID'] = df_encoded['Product_ID'].astype('category').cat.codes\n",
        "df_encoded['Region'] = df_encoded['Region'].astype('category').cat.codes\n",
        "df_encoded['Customer_Segment'] = df_encoded['Customer_Segment'].astype('category').cat.codes\n"
      ],
      "metadata": {
        "id": "ggb9MAC76j0k"
      },
      "execution_count": null,
      "outputs": []
    },
    {
      "cell_type": "code",
      "source": [
        "# Create interaction feature: Promotion impact\n",
        "df_encoded['Sales_Promo_Impact'] = df_encoded['Sales_Quantity'] * df_encoded['Promotion']\n"
      ],
      "metadata": {
        "id": "x-Wkk-3Q6pKo"
      },
      "execution_count": null,
      "outputs": []
    },
    {
      "cell_type": "code",
      "source": [
        "# Create lag features for time series context\n",
        "df_encoded['Prev_Day_Sales'] = df_encoded.groupby(['Product_ID','Region'])['Sales_Quantity'].shift(1)\n",
        "df_encoded['Prev_Week_Sales'] = df_encoded.groupby(['Product_ID','Region'])['Sales_Quantity'].shift(7)\n",
        "\n",
        "# Fill missing lag values with 0\n",
        "df_encoded.fillna(0, inplace=True)\n"
      ],
      "metadata": {
        "id": "qtA9s9YQ6sh3"
      },
      "execution_count": null,
      "outputs": []
    },
    {
      "cell_type": "code",
      "source": [
        "# Show first few rows of engineered dataset\n",
        "df_encoded.head()\n"
      ],
      "metadata": {
        "id": "xA9H8Wfl6v3o"
      },
      "execution_count": null,
      "outputs": []
    },
    {
      "cell_type": "markdown",
      "source": [
        "## 5. Forecasting with XGBoost\n",
        "\n",
        "In this section, we apply **XGBoost Regression** to forecast sales quantities.  \n",
        "Steps include:\n",
        "- Defining features and target  \n",
        "- Splitting the data into training and testing sets  \n",
        "- Training an XGBoost model  \n",
        "- Evaluating model performance using RMSE  \n"
      ],
      "metadata": {
        "id": "84jHVoL-62DA"
      }
    },
    {
      "cell_type": "code",
      "source": [
        "# Define features and target\n",
        "features = [\n",
        "    'Product_ID', 'Region', 'Price', 'Promotion', 'Customer_Segment',\n",
        "    'Day', 'Month', 'Weekday', 'Sales_Promo_Impact', 'Prev_Day_Sales', 'Prev_Week_Sales'\n",
        "]\n",
        "target = 'Sales_Quantity'\n",
        "\n",
        "X = df_encoded[features]\n",
        "y = df_encoded[target]\n"
      ],
      "metadata": {
        "id": "F5VmElcj62oB"
      },
      "execution_count": null,
      "outputs": []
    },
    {
      "cell_type": "code",
      "source": [
        "# Split into training and testing sets\n",
        "X_train, X_test, y_train, y_test = train_test_split(\n",
        "    X, y, test_size=0.2, random_state=42\n",
        ")\n"
      ],
      "metadata": {
        "id": "SUqVprKM7JPB"
      },
      "execution_count": null,
      "outputs": []
    },
    {
      "cell_type": "code",
      "source": [
        "# Initialize and train XGBoost model\n",
        "model = xgb.XGBRegressor(\n",
        "    objective='reg:squarederror',\n",
        "    n_estimators=100,\n",
        "    max_depth=5,\n",
        "    learning_rate=0.1,\n",
        "    random_state=42\n",
        ")\n",
        "model.fit(X_train, y_train)\n"
      ],
      "metadata": {
        "id": "Ztsz_a4o7QR5"
      },
      "execution_count": null,
      "outputs": []
    },
    {
      "cell_type": "code",
      "source": [
        "# Make predictions\n",
        "y_pred = model.predict(X_test)\n"
      ],
      "metadata": {
        "id": "Lb-nqC6s7Sct"
      },
      "execution_count": null,
      "outputs": []
    },
    {
      "cell_type": "code",
      "source": [
        "# Evaluate performance\n",
        "mse = mean_squared_error(y_test, y_pred)\n",
        "rmse = mse ** 0.5\n",
        "print(f\"XGBoost Model RMSE: {rmse:.2f}\")\n"
      ],
      "metadata": {
        "id": "jqfwZOcg7Vbq"
      },
      "execution_count": null,
      "outputs": []
    },
    {
      "cell_type": "markdown",
      "source": [
        "## 6. Forecasting with Prophet\n",
        "\n",
        "In this section, we apply **Facebook Prophet** for time series forecasting.  \n",
        "Steps include:\n",
        "- Aggregating daily sales  \n",
        "- Training the Prophet model  \n",
        "- Forecasting the next 30 days  \n",
        "- Visualizing forecast results  \n"
      ],
      "metadata": {
        "id": "8CVMDLjx7elF"
      }
    },
    {
      "cell_type": "code",
      "source": [
        "# Prepare dataset for Prophet: aggregate daily sales\n",
        "df_prophet = df.groupby('Date')['Sales_Quantity'].sum().reset_index()\n",
        "df_prophet = df_prophet.rename(columns={'Date': 'ds', 'Sales_Quantity': 'y'})\n",
        "df_prophet.head()\n"
      ],
      "metadata": {
        "id": "8R8dW5ft7fco"
      },
      "execution_count": null,
      "outputs": []
    },
    {
      "cell_type": "code",
      "source": [
        "# Initialize and fit Prophet model\n",
        "m = Prophet(daily_seasonality=True)\n",
        "m.fit(df_prophet)\n"
      ],
      "metadata": {
        "id": "F7Ue3GPM7jCS"
      },
      "execution_count": null,
      "outputs": []
    },
    {
      "cell_type": "code",
      "source": [
        "# Create future dataframe (30 days ahead)\n",
        "future = m.make_future_dataframe(periods=30)\n",
        "forecast = m.predict(future)\n"
      ],
      "metadata": {
        "id": "oPBxNzWt7lfX"
      },
      "execution_count": null,
      "outputs": []
    },
    {
      "cell_type": "code",
      "source": [
        "# Plot forecast\n",
        "fig1 = m.plot(forecast)\n",
        "plt.title(\"Sales Forecast for Next 30 Days (Prophet)\")\n",
        "plt.xlabel(\"Date\")\n",
        "plt.ylabel(\"Sales Quantity\")\n",
        "plt.show()\n"
      ],
      "metadata": {
        "id": "HaStllN-7oKV"
      },
      "execution_count": null,
      "outputs": []
    },
    {
      "cell_type": "code",
      "source": [
        "# Plot forecast components (trend, seasonality)\n",
        "fig2 = m.plot_components(forecast)\n",
        "plt.show()\n"
      ],
      "metadata": {
        "id": "A-lvb3rR7qrB"
      },
      "execution_count": null,
      "outputs": []
    },
    {
      "cell_type": "markdown",
      "source": [
        "## 7. Model Evaluation and Comparison\n",
        "\n",
        "In this section, we compare the performance of **XGBoost** and **Prophet**.  \n",
        "We evaluate forecast accuracy using **Root Mean Squared Error (RMSE)** and visualize predicted vs. actual sales.  \n"
      ],
      "metadata": {
        "id": "UKxtui7h8LC-"
      }
    },
    {
      "cell_type": "code",
      "source": [],
      "metadata": {
        "id": "swoBY2nD8LtB"
      },
      "execution_count": null,
      "outputs": []
    },
    {
      "cell_type": "code",
      "source": [
        "# --- Evaluate Prophet ---\n",
        "# Merge Prophet forecast with actuals\n",
        "df_compare = df_prophet.merge(forecast[['ds','yhat']], on='ds', how='left')\n",
        "\n",
        "# Only compare where actual values exist\n",
        "mask = df_compare['y'].notnull()\n",
        "y_true_prophet = df_compare.loc[mask, 'y']\n",
        "y_pred_prophet = df_compare.loc[mask, 'yhat']\n",
        "\n",
        "mse_prophet = mean_squared_error(y_true_prophet, y_pred_prophet)\n",
        "rmse_prophet = mse_prophet ** 0.5\n",
        "print(f\"Prophet Model RMSE: {rmse_prophet:.2f}\")\n"
      ],
      "metadata": {
        "id": "222jo57w8V8a"
      },
      "execution_count": null,
      "outputs": []
    },
    {
      "cell_type": "code",
      "source": [
        "# --- Already have XGBoost RMSE ---\n",
        "print(f\"XGBoost Model RMSE: {rmse_tuned:.2f}\" if 'rmse_tuned' in globals() else f\"XGBoost Model RMSE: {rmse:.2f}\")\n"
      ],
      "metadata": {
        "id": "davsnk878YxU"
      },
      "execution_count": null,
      "outputs": []
    },
    {
      "cell_type": "code",
      "source": [
        "# --- Side-by-side comparison ---\n",
        "results = pd.DataFrame({\n",
        "    'Model': ['XGBoost', 'Prophet'],\n",
        "    'RMSE': [rmse_tuned if 'rmse_tuned' in globals() else rmse, rmse_prophet]\n",
        "})\n",
        "results\n"
      ],
      "metadata": {
        "id": "Es-2ZV498a-h"
      },
      "execution_count": null,
      "outputs": []
    },
    {
      "cell_type": "code",
      "source": [
        "# --- Visualization: Actual vs Prophet Forecast ---\n",
        "plt.figure(figsize=(12,6))\n",
        "plt.plot(df_compare['ds'], df_compare['y'], label=\"Actual Sales\")\n",
        "plt.plot(df_compare['ds'], df_compare['yhat'], label=\"Prophet Forecast\")\n",
        "plt.title(\"Prophet: Actual vs Forecasted Sales\")\n",
        "plt.xlabel(\"Date\")\n",
        "plt.ylabel(\"Sales Quantity\")\n",
        "plt.legend()\n",
        "plt.show()\n"
      ],
      "metadata": {
        "id": "ShpFvmmE8c7e"
      },
      "execution_count": null,
      "outputs": []
    },
    {
      "cell_type": "code",
      "source": [
        "# --- Visualization: Actual vs XGBoost Predictions (Test set only) ---\n",
        "plt.figure(figsize=(8,5))\n",
        "plt.scatter(y_test, y_pred if 'y_pred' in globals() else y_pred_tuned, alpha=0.5)\n",
        "plt.plot([y_test.min(), y_test.max()], [y_test.min(), y_test.max()], color='red')\n",
        "plt.title(\"XGBoost: Actual vs Predicted Sales\")\n",
        "plt.xlabel(\"Actual Sales\")\n",
        "plt.ylabel(\"Predicted Sales\")\n",
        "plt.show()\n"
      ],
      "metadata": {
        "id": "igbEPAIv8fmR"
      },
      "execution_count": null,
      "outputs": []
    },
    {
      "cell_type": "markdown",
      "source": [
        "## 8. Business Insights\n",
        "\n",
        "In this section, we extract key insights from the simulated sales dataset.  \n",
        "These insights highlight **which products, regions, and promotions drive sales performance**,  \n",
        "providing value for commercial decision-making.\n"
      ],
      "metadata": {
        "id": "aB-hCaR99j2d"
      }
    },
    {
      "cell_type": "code",
      "source": [
        "# Top products by total sales\n",
        "top_products = df.groupby('Product_ID')['Sales_Quantity'].sum().sort_values(ascending=False)\n",
        "print(\"Total Sales by Product:\")\n",
        "print(top_products)\n",
        "top_products.plot(kind='bar', figsize=(6,4), title=\"Total Sales by Product\")\n",
        "plt.ylabel(\"Sales Quantity\")\n",
        "plt.show()\n"
      ],
      "metadata": {
        "id": "199REFog9ksj"
      },
      "execution_count": null,
      "outputs": []
    },
    {
      "cell_type": "code",
      "source": [
        "# Top regions by total sales\n",
        "region_sales = df.groupby('Region')['Sales_Quantity'].sum().sort_values(ascending=False)\n",
        "print(\"Total Sales by Region:\")\n",
        "print(region_sales)\n",
        "region_sales.plot(kind='bar', figsize=(6,4), title=\"Total Sales by Region\", color=\"teal\")\n",
        "plt.ylabel(\"Sales Quantity\")\n",
        "plt.show()\n"
      ],
      "metadata": {
        "id": "jMJB2L1J9oEf"
      },
      "execution_count": null,
      "outputs": []
    },
    {
      "cell_type": "code",
      "source": [
        "# Promotion impact on average sales\n",
        "promo_sales = df.groupby('Promotion')['Sales_Quantity'].mean()\n",
        "print(\"Average Sales With/Without Promotion:\")\n",
        "print(promo_sales)\n",
        "promo_sales.plot(kind='bar', figsize=(6,4), title=\"Impact of Promotion on Sales\", color=[\"grey\",\"green\"])\n",
        "plt.ylabel(\"Average Sales Quantity\")\n",
        "plt.xticks([0,1], [\"No Promotion\",\"Promotion\"], rotation=0)\n",
        "plt.show()\n"
      ],
      "metadata": {
        "id": "gzjf13y69vzM"
      },
      "execution_count": null,
      "outputs": []
    },
    {
      "cell_type": "code",
      "source": [
        "# Customer segment analysis\n",
        "segment_sales = df.groupby('Customer_Segment')['Sales_Quantity'].sum()\n",
        "print(\"Total Sales by Customer Segment:\")\n",
        "print(segment_sales)\n",
        "segment_sales.plot(kind='bar', figsize=(6,4), title=\"Total Sales by Customer Segment\", color=\"orange\")\n",
        "plt.ylabel(\"Sales Quantity\")\n",
        "plt.show()\n"
      ],
      "metadata": {
        "id": "Xhe8uqCQ9zbE"
      },
      "execution_count": null,
      "outputs": []
    },
    {
      "cell_type": "markdown",
      "source": [
        "## 9. Visualization of Forecasts\n",
        "\n",
        "In this section, we visualize the forecasts generated by **Prophet** and **XGBoost**.  \n",
        "This helps compare predicted sales against actual values and highlights how well each model captures sales patterns.\n"
      ],
      "metadata": {
        "id": "0awmF-vu96ik"
      }
    },
    {
      "cell_type": "code",
      "source": [
        "# Prophet: Actual vs Forecasted Sales\n",
        "plt.figure(figsize=(12,6))\n",
        "plt.plot(df_compare['ds'], df_compare['y'], label=\"Actual Sales\")\n",
        "plt.plot(df_compare['ds'], df_compare['yhat'], label=\"Prophet Forecast\")\n",
        "plt.title(\"Prophet: Actual vs Forecasted Sales\")\n",
        "plt.xlabel(\"Date\")\n",
        "plt.ylabel(\"Sales Quantity\")\n",
        "plt.legend()\n",
        "plt.show()\n"
      ],
      "metadata": {
        "id": "AaA2Tk_J97L6"
      },
      "execution_count": null,
      "outputs": []
    },
    {
      "cell_type": "code",
      "source": [
        "# Prophet forecast components (trend & seasonality)\n",
        "fig2 = m.plot_components(forecast)\n",
        "plt.show()\n"
      ],
      "metadata": {
        "id": "wIkIYf8w98xp"
      },
      "execution_count": null,
      "outputs": []
    },
    {
      "cell_type": "code",
      "source": [
        "# XGBoost: Actual vs Predicted Sales (Test set)\n",
        "plt.figure(figsize=(8,5))\n",
        "plt.scatter(y_test, y_pred_tuned if 'y_pred_tuned' in globals() else y_pred, alpha=0.5, label=\"Predictions\")\n",
        "plt.plot([y_test.min(), y_test.max()], [y_test.min(), y_test.max()], color='red', label=\"Perfect Prediction Line\")\n",
        "plt.title(\"XGBoost: Actual vs Predicted Sales\")\n",
        "plt.xlabel(\"Actual Sales\")\n",
        "plt.ylabel(\"Predicted Sales\")\n",
        "plt.legend()\n",
        "plt.show()\n"
      ],
      "metadata": {
        "id": "OWqO2xPC-CGD"
      },
      "execution_count": null,
      "outputs": []
    },
    {
      "cell_type": "code",
      "source": [
        "# Side-by-side comparison table for Prophet vs XGBoost\n",
        "results = pd.DataFrame({\n",
        "    'Model': ['XGBoost', 'Prophet'],\n",
        "    'RMSE': [rmse_tuned if 'rmse_tuned' in globals() else rmse, rmse_prophet]\n",
        "})\n",
        "print(\"Model Comparison (Lower RMSE = Better Performance):\")\n",
        "results\n"
      ],
      "metadata": {
        "id": "GDG1jVKs-E7Z"
      },
      "execution_count": null,
      "outputs": []
    },
    {
      "cell_type": "markdown",
      "source": [
        "## 10. Limitations & Improvements\n",
        "\n",
        "### Limitations\n",
        "- Dataset is **synthetic**, so results may differ with real-world sales data.  \n",
        "- Models are trained on a **limited set of features** (product, region, promotion, etc.).  \n",
        "- Prophet may struggle with sudden spikes, while XGBoost depends heavily on feature engineering.  \n",
        "\n",
        "### Improvements\n",
        "- Include **external factors** like holidays, campaigns, or economic trends.  \n",
        "- Explore **hybrid models** combining Prophet (trend/seasonality) with XGBoost (complex patterns).  \n",
        "- Deploy the best-performing model as an **API or dashboard** for real-time insights.  \n"
      ],
      "metadata": {
        "id": "IZshbA7SAnP6"
      }
    },
    {
      "cell_type": "code",
      "source": [],
      "metadata": {
        "id": "8T-wYOtWAqBC"
      },
      "execution_count": null,
      "outputs": []
    },
    {
      "cell_type": "markdown",
      "source": [
        "## 11. Conclusion & Key Insights\n",
        "\n",
        "This project showcased a complete **forecasting pipeline** using a simulated commercial sales dataset.  \n",
        "We applied both **XGBoost** and **Prophet** models to predict future sales and compared their performance.  \n",
        "\n",
        "### Key Takeaways\n",
        "- **XGBoost** performed well in capturing complex, non-linear relationships.  \n",
        "- **Prophet** provided interpretable forecasts with clear trend and seasonality insights.  \n",
        "- Business analysis showed that **promotions significantly increased sales**, and certain **products and regions consistently outperformed others**.  \n",
        "\n",
        "### Business Value\n",
        "The forecasting framework can support:  \n",
        "- **Inventory planning** by predicting demand  \n",
        "- **Promotion strategy** by quantifying promotional impact  \n",
        "- **Regional targeting** for better resource allocation  \n",
        "\n"
      ],
      "metadata": {
        "id": "0gmgcEdYAwR0"
      }
    }
  ]
}